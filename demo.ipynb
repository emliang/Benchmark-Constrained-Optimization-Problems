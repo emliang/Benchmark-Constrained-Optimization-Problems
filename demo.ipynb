{
 "cells": [
  {
   "cell_type": "code",
   "execution_count": null,
   "metadata": {},
   "outputs": [],
   "source": [
    "from make_dataset import *"
   ]
  },
  {
   "cell_type": "code",
   "execution_count": null,
   "metadata": {},
   "outputs": [],
   "source": [
    "defaults = config()\n",
    "# solver: mosek, gurobi\n",
    "# paras: [num_var, n_ineq, n_eq, n_samples, n_scenario]\n",
    "generate_opt(defaults, 'qp', [400, 100, 100, 10000], [-1,1], [-3, 3], paralell=True, solver='mosek')\n",
    "# generate_opt(defaults, 'convex_qcqp', [400, 100, 100, 10000], [-1,1], [-3, 3], paralell=True, solver='mosek')\n",
    "# generate_opt(defaults, 'socp', [400, 100, 100, 10000], [-1, 1], [-3, 3], paralell=True, solver='mosek')\n",
    "# generate_opt(defaults, 'sdp', [1600, 50, 50, 10000], [-1, 1], [-3, 3], paralell=True, solver='mosek')\n",
    "# generate_opt(defaults, 'jccim', [400, 100, 100, 10000, 100], [-1,1], [-3, 3], paralell=True, solver='mosek')"
   ]
  }
 ],
 "metadata": {
  "kernelspec": {
   "display_name": "base",
   "language": "python",
   "name": "python3"
  },
  "language_info": {
   "name": "python",
   "version": "3.11.5"
  }
 },
 "nbformat": 4,
 "nbformat_minor": 2
}
